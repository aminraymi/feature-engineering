{
 "cells": [
  {
   "cell_type": "code",
   "execution_count": 2,
   "metadata": {},
   "outputs": [],
   "source": [
    "%config Completer.use_jedi = False\n",
    "import pandas as pd\n",
    "from nltk.tokenize import sent_tokenize\n",
    "from sklearn.datasets import fetch_20newsgroups"
   ]
  },
  {
   "cell_type": "code",
   "execution_count": 3,
   "metadata": {},
   "outputs": [],
   "source": [
    "text = \"\"\"\n",
    "The alarm rang at 7 in the morning as it usually did on Tuesdays.\n",
    "She rolled over,\n",
    "stretched her arm, and stumbled to the button till she finally\n",
    "managed to switch it off.\n",
    "Reluctantly, she got up and went for a shower. The water was cold\n",
    "as the day before the engineers\n",
    "did not manage to get the boiler working. Good thing it was still\n",
    "summer.\n",
    "Upstairs, her cat waited eagerly for his morning snack. Miaow! he\n",
    "voiced with excitement\n",
    "as he saw her climb the stairs.\n",
    "\"\"\""
   ]
  },
  {
   "cell_type": "code",
   "execution_count": 4,
   "metadata": {},
   "outputs": [
    {
     "data": {
      "text/plain": [
       "['\\nThe alarm rang at 7 in the morning as it usually did on Tuesdays.',\n",
       " 'She rolled over,\\nstretched her arm, and stumbled to the button till she finally\\nmanaged to switch it off.',\n",
       " 'Reluctantly, she got up and went for a shower.',\n",
       " 'The water was cold\\nas the day before the engineers\\ndid not manage to get the boiler working.',\n",
       " 'Good thing it was still\\nsummer.',\n",
       " 'Upstairs, her cat waited eagerly for his morning snack.',\n",
       " 'Miaow!',\n",
       " 'he\\nvoiced with excitement\\nas he saw her climb the stairs.']"
      ]
     },
     "execution_count": 4,
     "metadata": {},
     "output_type": "execute_result"
    }
   ],
   "source": [
    "sent_tokenize(text)"
   ]
  },
  {
   "cell_type": "code",
   "execution_count": 5,
   "metadata": {},
   "outputs": [
    {
     "data": {
      "text/plain": [
       "8"
      ]
     },
     "execution_count": 5,
     "metadata": {},
     "output_type": "execute_result"
    }
   ],
   "source": [
    "len(sent_tokenize(text))"
   ]
  },
  {
   "cell_type": "code",
   "execution_count": 6,
   "metadata": {},
   "outputs": [],
   "source": [
    "data = fetch_20newsgroups(subset='train')\n",
    "df = pd.DataFrame(data.data, columns=['text'])"
   ]
  },
  {
   "cell_type": "code",
   "execution_count": 8,
   "metadata": {},
   "outputs": [],
   "source": [
    "df = df.iloc[1:10]"
   ]
  },
  {
   "cell_type": "code",
   "execution_count": 9,
   "metadata": {},
   "outputs": [],
   "source": [
    "df['text'] = df['text'].str.split('Lines:').apply(lambda x: x[1])"
   ]
  },
  {
   "cell_type": "code",
   "execution_count": 10,
   "metadata": {},
   "outputs": [],
   "source": [
    "df['num_sent'] = df['text'].apply(sent_tokenize).apply(len)"
   ]
  },
  {
   "cell_type": "code",
   "execution_count": 11,
   "metadata": {},
   "outputs": [
    {
     "data": {
      "text/html": [
       "<div>\n",
       "<style scoped>\n",
       "    .dataframe tbody tr th:only-of-type {\n",
       "        vertical-align: middle;\n",
       "    }\n",
       "\n",
       "    .dataframe tbody tr th {\n",
       "        vertical-align: top;\n",
       "    }\n",
       "\n",
       "    .dataframe thead th {\n",
       "        text-align: right;\n",
       "    }\n",
       "</style>\n",
       "<table border=\"1\" class=\"dataframe\">\n",
       "  <thead>\n",
       "    <tr style=\"text-align: right;\">\n",
       "      <th></th>\n",
       "      <th>text</th>\n",
       "      <th>num_sent</th>\n",
       "    </tr>\n",
       "  </thead>\n",
       "  <tbody>\n",
       "    <tr>\n",
       "      <th>2</th>\n",
       "      <td>36\\n\\nwell folks, my mac plus finally gave up...</td>\n",
       "      <td>9</td>\n",
       "    </tr>\n",
       "    <tr>\n",
       "      <th>3</th>\n",
       "      <td>14\\nDistribution: world\\nNNTP-Posting-Host: a...</td>\n",
       "      <td>7</td>\n",
       "    </tr>\n",
       "    <tr>\n",
       "      <th>4</th>\n",
       "      <td>23\\n\\nFrom article &lt;C5owCB.n3p@world.std.com&gt;...</td>\n",
       "      <td>10</td>\n",
       "    </tr>\n",
       "    <tr>\n",
       "      <th>5</th>\n",
       "      <td>58\\n\\nIn article &lt;1r1eu1$4t@transfer.stratus....</td>\n",
       "      <td>21</td>\n",
       "    </tr>\n",
       "    <tr>\n",
       "      <th>6</th>\n",
       "      <td>12\\n\\nThere were a few people who responded t...</td>\n",
       "      <td>8</td>\n",
       "    </tr>\n",
       "    <tr>\n",
       "      <th>7</th>\n",
       "      <td>44\\nDistribution: world\\nNNTP-Posting-Host: d...</td>\n",
       "      <td>15</td>\n",
       "    </tr>\n",
       "    <tr>\n",
       "      <th>8</th>\n",
       "      <td>10\\n\\nI have win 3.0 and downloaded several i...</td>\n",
       "      <td>3</td>\n",
       "    </tr>\n",
       "    <tr>\n",
       "      <th>9</th>\n",
       "      <td>29\\n\\njap10@po.CWRU.Edu (Joseph A. Pellettier...</td>\n",
       "      <td>12</td>\n",
       "    </tr>\n",
       "    <tr>\n",
       "      <th>10</th>\n",
       "      <td>13\\n\\nI have a line on a Ducati 900GTS 1978 m...</td>\n",
       "      <td>11</td>\n",
       "    </tr>\n",
       "  </tbody>\n",
       "</table>\n",
       "</div>"
      ],
      "text/plain": [
       "                                                 text  num_sent\n",
       "2    36\\n\\nwell folks, my mac plus finally gave up...         9\n",
       "3    14\\nDistribution: world\\nNNTP-Posting-Host: a...         7\n",
       "4    23\\n\\nFrom article <C5owCB.n3p@world.std.com>...        10\n",
       "5    58\\n\\nIn article <1r1eu1$4t@transfer.stratus....        21\n",
       "6    12\\n\\nThere were a few people who responded t...         8\n",
       "7    44\\nDistribution: world\\nNNTP-Posting-Host: d...        15\n",
       "8    10\\n\\nI have win 3.0 and downloaded several i...         3\n",
       "9    29\\n\\njap10@po.CWRU.Edu (Joseph A. Pellettier...        12\n",
       "10   13\\n\\nI have a line on a Ducati 900GTS 1978 m...        11"
      ]
     },
     "execution_count": 11,
     "metadata": {},
     "output_type": "execute_result"
    }
   ],
   "source": [
    "df"
   ]
  },
  {
   "cell_type": "code",
   "execution_count": null,
   "metadata": {},
   "outputs": [],
   "source": []
  }
 ],
 "metadata": {
  "kernelspec": {
   "display_name": "ml",
   "language": "python",
   "name": "ml"
  },
  "language_info": {
   "codemirror_mode": {
    "name": "ipython",
    "version": 3
   },
   "file_extension": ".py",
   "mimetype": "text/x-python",
   "name": "python",
   "nbconvert_exporter": "python",
   "pygments_lexer": "ipython3",
   "version": "3.8.5"
  }
 },
 "nbformat": 4,
 "nbformat_minor": 4
}
