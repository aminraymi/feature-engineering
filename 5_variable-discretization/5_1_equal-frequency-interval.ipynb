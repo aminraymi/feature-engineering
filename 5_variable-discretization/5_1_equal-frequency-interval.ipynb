{
 "cells": [
  {
   "cell_type": "code",
   "execution_count": 14,
   "metadata": {},
   "outputs": [],
   "source": [
    "# Equal-frequency discretization divides the values of the variable into intervals that carry\n",
    "# the same proportion of observations. The interval width is determined by quantiles, and\n",
    "# therefore different intervals may have different widths\n",
    "# This discretization technique is particularly useful for\n",
    "# skewed variables as it spreads the observations over the different bins equally\n",
    "%config Completer.use_jedi = False\n",
    "import pandas as pd\n",
    "from sklearn.datasets import load_boston\n",
    "from sklearn.model_selection import train_test_split\n",
    "from sklearn.preprocessing import KBinsDiscretizer\n",
    "from feature_engine.discretisation import EqualFrequencyDiscretiser"
   ]
  },
  {
   "cell_type": "code",
   "execution_count": 15,
   "metadata": {},
   "outputs": [],
   "source": [
    "boston_dataset = load_boston()\n",
    "data = pd.DataFrame(boston_dataset.data,\n",
    "columns=boston_dataset.feature_names)\n",
    "data['MEDV'] = boston_dataset.target"
   ]
  },
  {
   "cell_type": "code",
   "execution_count": 16,
   "metadata": {},
   "outputs": [],
   "source": [
    "X_train, X_test, y_train, y_test = train_test_split(\n",
    "data.drop('MEDV', axis=1), data['MEDV'], test_size=0.3,\n",
    "random_state=0)"
   ]
  },
  {
   "cell_type": "code",
   "execution_count": 17,
   "metadata": {},
   "outputs": [],
   "source": [
    "X_train['lstat_disc'], intervals = pd.qcut(X_train['LSTAT'], 10,\n",
    "labels=None, retbins=True)"
   ]
  },
  {
   "cell_type": "code",
   "execution_count": 18,
   "metadata": {},
   "outputs": [
    {
     "name": "stdout",
     "output_type": "stream",
     "text": [
      "[ 1.73   4.623  6.202  7.528  9.5   11.16  13.26  15.565 18.06  22.453\n",
      " 36.98 ]\n"
     ]
    }
   ],
   "source": [
    "print(intervals)"
   ]
  },
  {
   "cell_type": "code",
   "execution_count": 19,
   "metadata": {},
   "outputs": [
    {
     "name": "stdout",
     "output_type": "stream",
     "text": [
      "     LSTAT       lstat_disc\n",
      "141  34.41  (22.453, 36.98]\n",
      "272   7.73     (7.528, 9.5]\n",
      "135  16.96  (15.565, 18.06]\n",
      "298   4.97   (4.623, 6.202]\n",
      "122  17.93  (15.565, 18.06]\n",
      "22   18.72  (18.06, 22.453]\n",
      "68   13.09   (11.16, 13.26]\n",
      "20   21.02  (18.06, 22.453]\n",
      "437  26.45  (22.453, 36.98]\n",
      "14   10.26     (9.5, 11.16]\n"
     ]
    }
   ],
   "source": [
    "print(X_train[['LSTAT', 'lstat_disc']].head(10))"
   ]
  },
  {
   "cell_type": "code",
   "execution_count": 20,
   "metadata": {},
   "outputs": [
    {
     "data": {
      "text/plain": [
       "(7.528, 9.5]       0.104520\n",
       "(1.729, 4.623]     0.101695\n",
       "(13.26, 15.565]    0.101695\n",
       "(15.565, 18.06]    0.101695\n",
       "(22.453, 36.98]    0.101695\n",
       "(4.623, 6.202]     0.098870\n",
       "(6.202, 7.528]     0.098870\n",
       "(11.16, 13.26]     0.098870\n",
       "(9.5, 11.16]       0.096045\n",
       "(18.06, 22.453]    0.096045\n",
       "Name: lstat_disc, dtype: float64"
      ]
     },
     "execution_count": 20,
     "metadata": {},
     "output_type": "execute_result"
    }
   ],
   "source": [
    "X_train['lstat_disc'].value_counts() / len(X_train)"
   ]
  },
  {
   "cell_type": "code",
   "execution_count": 32,
   "metadata": {},
   "outputs": [],
   "source": [
    "# use sklearn\n",
    "disc = KBinsDiscretizer(n_bins=10, encode='ordinal',\n",
    "strategy='quantile')\n"
   ]
  },
  {
   "cell_type": "code",
   "execution_count": 33,
   "metadata": {},
   "outputs": [
    {
     "data": {
      "text/plain": [
       "KBinsDiscretizer(encode='ordinal', n_bins=10)"
      ]
     },
     "execution_count": 33,
     "metadata": {},
     "output_type": "execute_result"
    }
   ],
   "source": [
    "disc.fit(X_train[['LSTAT', 'DIS', 'RM']])"
   ]
  },
  {
   "cell_type": "code",
   "execution_count": 34,
   "metadata": {},
   "outputs": [],
   "source": [
    "train_t = disc.transform(X_train[['LSTAT', 'DIS', 'RM']])\n",
    "test_t = disc.transform(X_test[['LSTAT', 'DIS', 'RM']])"
   ]
  },
  {
   "cell_type": "code",
   "execution_count": 36,
   "metadata": {},
   "outputs": [
    {
     "name": "stdout",
     "output_type": "stream",
     "text": [
      "[array([ 1.73 ,  4.623,  6.202,  7.528,  9.5  , 11.16 , 13.26 , 15.565,\n",
      "       18.06 , 22.453, 36.98 ])\n",
      " array([ 1.1742 ,  1.66132,  1.9793 ,  2.26121,  2.64774,  3.2157 ,\n",
      "        3.7965 ,  4.45352,  5.40702,  6.8147 , 12.1265 ])\n",
      " array([3.561 , 5.5783, 5.8532, 5.9628, 6.1048, 6.2155, 6.3946, 6.5632,\n",
      "       6.794 , 7.185 , 8.78  ])]\n"
     ]
    }
   ],
   "source": [
    "print(disc.bin_edges_)"
   ]
  },
  {
   "cell_type": "code",
   "execution_count": 37,
   "metadata": {},
   "outputs": [],
   "source": [
    "# convert numpy to dataframe\n",
    "train_t = pd.DataFrame(train_t, columns =['LSTAT', 'DIS', 'RM'])"
   ]
  },
  {
   "cell_type": "code",
   "execution_count": 38,
   "metadata": {},
   "outputs": [
    {
     "data": {
      "text/html": [
       "<div>\n",
       "<style scoped>\n",
       "    .dataframe tbody tr th:only-of-type {\n",
       "        vertical-align: middle;\n",
       "    }\n",
       "\n",
       "    .dataframe tbody tr th {\n",
       "        vertical-align: top;\n",
       "    }\n",
       "\n",
       "    .dataframe thead th {\n",
       "        text-align: right;\n",
       "    }\n",
       "</style>\n",
       "<table border=\"1\" class=\"dataframe\">\n",
       "  <thead>\n",
       "    <tr style=\"text-align: right;\">\n",
       "      <th></th>\n",
       "      <th>LSTAT</th>\n",
       "      <th>DIS</th>\n",
       "      <th>RM</th>\n",
       "    </tr>\n",
       "  </thead>\n",
       "  <tbody>\n",
       "    <tr>\n",
       "      <th>0</th>\n",
       "      <td>9.0</td>\n",
       "      <td>0.0</td>\n",
       "      <td>0.0</td>\n",
       "    </tr>\n",
       "    <tr>\n",
       "      <th>1</th>\n",
       "      <td>3.0</td>\n",
       "      <td>6.0</td>\n",
       "      <td>6.0</td>\n",
       "    </tr>\n",
       "    <tr>\n",
       "      <th>2</th>\n",
       "      <td>7.0</td>\n",
       "      <td>2.0</td>\n",
       "      <td>5.0</td>\n",
       "    </tr>\n",
       "    <tr>\n",
       "      <th>3</th>\n",
       "      <td>1.0</td>\n",
       "      <td>9.0</td>\n",
       "      <td>5.0</td>\n",
       "    </tr>\n",
       "    <tr>\n",
       "      <th>4</th>\n",
       "      <td>7.0</td>\n",
       "      <td>2.0</td>\n",
       "      <td>2.0</td>\n",
       "    </tr>\n",
       "  </tbody>\n",
       "</table>\n",
       "</div>"
      ],
      "text/plain": [
       "   LSTAT  DIS   RM\n",
       "0    9.0  0.0  0.0\n",
       "1    3.0  6.0  6.0\n",
       "2    7.0  2.0  5.0\n",
       "3    1.0  9.0  5.0\n",
       "4    7.0  2.0  2.0"
      ]
     },
     "execution_count": 38,
     "metadata": {},
     "output_type": "execute_result"
    }
   ],
   "source": [
    "train_t.head()"
   ]
  },
  {
   "cell_type": "code",
   "execution_count": null,
   "metadata": {},
   "outputs": [],
   "source": []
  }
 ],
 "metadata": {
  "kernelspec": {
   "display_name": "ml",
   "language": "python",
   "name": "ml"
  },
  "language_info": {
   "codemirror_mode": {
    "name": "ipython",
    "version": 3
   },
   "file_extension": ".py",
   "mimetype": "text/x-python",
   "name": "python",
   "nbconvert_exporter": "python",
   "pygments_lexer": "ipython3",
   "version": "3.8.5"
  }
 },
 "nbformat": 4,
 "nbformat_minor": 4
}
