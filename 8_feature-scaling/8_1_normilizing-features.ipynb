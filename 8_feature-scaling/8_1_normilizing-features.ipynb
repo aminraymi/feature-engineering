{
 "cells": [
  {
   "cell_type": "code",
   "execution_count": 2,
   "metadata": {},
   "outputs": [],
   "source": [
    "# This transformation results in a distribution centered at 0, with its minimum and maximum\n",
    "# values within the range of -1 to 1\n",
    "%config Completer.use_jedi = False\n",
    "import pandas as pd\n",
    "from sklearn.datasets import load_boston\n",
    "from sklearn.model_selection import train_test_split"
   ]
  },
  {
   "cell_type": "code",
   "execution_count": 3,
   "metadata": {},
   "outputs": [],
   "source": [
    "boston_dataset = load_boston()\n",
    "data = pd.DataFrame(boston_dataset.data,\n",
    "columns=boston_dataset.feature_names)\n",
    "data['MEDV'] = boston_dataset.target"
   ]
  },
  {
   "cell_type": "code",
   "execution_count": 4,
   "metadata": {},
   "outputs": [],
   "source": [
    "X_train, X_test, y_train, y_test = train_test_split(\n",
    "data.drop('MEDV', axis=1), data['MEDV'], test_size=0.3,\n",
    "random_state=0)"
   ]
  },
  {
   "cell_type": "code",
   "execution_count": 5,
   "metadata": {},
   "outputs": [
    {
     "data": {
      "text/plain": [
       "CRIM         3.358284\n",
       "ZN          11.809322\n",
       "INDUS       11.078757\n",
       "CHAS         0.064972\n",
       "NOX          0.556098\n",
       "RM           6.308427\n",
       "AGE         68.994068\n",
       "DIS          3.762459\n",
       "RAD          9.353107\n",
       "TAX        401.782486\n",
       "PTRATIO     18.473446\n",
       "B          360.601186\n",
       "LSTAT       12.440650\n",
       "dtype: float64"
      ]
     },
     "execution_count": 5,
     "metadata": {},
     "output_type": "execute_result"
    }
   ],
   "source": [
    "means = X_train.mean(axis=0)\n",
    "means"
   ]
  },
  {
   "cell_type": "code",
   "execution_count": 6,
   "metadata": {},
   "outputs": [
    {
     "data": {
      "text/plain": [
       "CRIM        88.96988\n",
       "ZN         100.00000\n",
       "INDUS       27.28000\n",
       "CHAS         1.00000\n",
       "NOX          0.48600\n",
       "RM           5.21900\n",
       "AGE         97.10000\n",
       "DIS         10.95230\n",
       "RAD         23.00000\n",
       "TAX        524.00000\n",
       "PTRATIO      9.40000\n",
       "B          396.58000\n",
       "LSTAT       35.25000\n",
       "dtype: float64"
      ]
     },
     "execution_count": 6,
     "metadata": {},
     "output_type": "execute_result"
    }
   ],
   "source": [
    "ranges = X_train.max(axis=0)-X_train.min(axis=0)\n",
    "ranges"
   ]
  },
  {
   "cell_type": "code",
   "execution_count": 7,
   "metadata": {},
   "outputs": [],
   "source": [
    "X_train_scaled = (X_train - means) / ranges\n",
    "X_test_scaled = (X_test - means) / ranges"
   ]
  },
  {
   "cell_type": "code",
   "execution_count": null,
   "metadata": {},
   "outputs": [],
   "source": []
  }
 ],
 "metadata": {
  "kernelspec": {
   "display_name": "ml",
   "language": "python",
   "name": "ml"
  },
  "language_info": {
   "codemirror_mode": {
    "name": "ipython",
    "version": 3
   },
   "file_extension": ".py",
   "mimetype": "text/x-python",
   "name": "python",
   "nbconvert_exporter": "python",
   "pygments_lexer": "ipython3",
   "version": "3.8.5"
  }
 },
 "nbformat": 4,
 "nbformat_minor": 4
}
